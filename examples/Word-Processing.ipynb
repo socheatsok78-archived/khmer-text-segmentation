{
 "cells": [
  {
   "cell_type": "code",
   "execution_count": 20,
   "metadata": {},
   "outputs": [],
   "source": [
    "# imports needed and set up logging\n",
    "import gensim \n",
    "import re"
   ]
  },
  {
   "cell_type": "code",
   "execution_count": 21,
   "metadata": {},
   "outputs": [
    {
     "name": "stdout",
     "output_type": "stream",
     "text": [
      "Length of text: 542510 characters\n"
     ]
    }
   ],
   "source": [
    "path_to_file='../dictionaries/km_spellchecker_OOo30_V_1.0.2.oxt/dictionaries/km_KH.dic'\n",
    "\n",
    "# Read, then decode for py2 compat.\n",
    "text = open(path_to_file, 'rb').read().decode(encoding='utf-8')\n",
    "\n",
    "# length of text is the number of characters in it\n",
    "print ('Length of text: {} characters'.format(len(text)))"
   ]
  },
  {
   "cell_type": "code",
   "execution_count": 22,
   "metadata": {},
   "outputs": [
    {
     "name": "stdout",
     "output_type": "stream",
     "text": [
      "56840\n",
      "។ល។\n",
      "៛\n",
      "ក\n",
      "ក៏\n",
      "កក\n",
      "កក់\n",
      "កកកុញ\n",
      "កកកុះ\n",
      "កក់ក្ដៅ\n",
      "កក់ខែ\n",
      "\n"
     ]
    }
   ],
   "source": [
    "# Take a look at the first 250 characters in text\n",
    "print(text[:50])"
   ]
  },
  {
   "cell_type": "code",
   "execution_count": 23,
   "metadata": {},
   "outputs": [
    {
     "name": "stdout",
     "output_type": "stream",
     "text": [
      "legth of word in the list 56839\n",
      "['។ល។', '៛', 'ក', 'ក៏', 'កក', 'កក់', 'កកកុញ', 'កកកុះ', 'កក់ក្ដៅ', 'កក់ខែ']\n"
     ]
    }
   ],
   "source": [
    "wordList = list(re.sub(\"[^\\s\\S]\", \"\\n\",  text).split())\n",
    "\n",
    "wordList.pop(0)\n",
    "\n",
    "print(f'legth of word in the list {len(wordList)}')\n",
    "\n",
    "print(wordList[:10])"
   ]
  },
  {
   "cell_type": "code",
   "execution_count": 24,
   "metadata": {},
   "outputs": [],
   "source": [
    "listSize = 255\n",
    "\n",
    "# Create CBOW model \n",
    "model = gensim.models.Word2Vec(wordList, min_count = 1,  \n",
    "                              size = listSize, window = 5) "
   ]
  },
  {
   "cell_type": "code",
   "execution_count": 25,
   "metadata": {},
   "outputs": [
    {
     "name": "stdout",
     "output_type": "stream",
     "text": [
      "Word2Vec(vocab=89, size=255, alpha=0.025)\n"
     ]
    }
   ],
   "source": [
    "print(model)"
   ]
  },
  {
   "cell_type": "code",
   "execution_count": null,
   "metadata": {},
   "outputs": [],
   "source": []
  },
  {
   "cell_type": "code",
   "execution_count": null,
   "metadata": {},
   "outputs": [],
   "source": []
  }
 ],
 "metadata": {
  "kernelspec": {
   "display_name": "Python 3",
   "language": "python",
   "name": "python3"
  },
  "language_info": {
   "codemirror_mode": {
    "name": "ipython",
    "version": 3
   },
   "file_extension": ".py",
   "mimetype": "text/x-python",
   "name": "python",
   "nbconvert_exporter": "python",
   "pygments_lexer": "ipython3",
   "version": "3.7.3"
  }
 },
 "nbformat": 4,
 "nbformat_minor": 2
}
